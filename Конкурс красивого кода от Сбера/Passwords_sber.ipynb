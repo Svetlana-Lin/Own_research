{
 "cells": [
  {
   "cell_type": "markdown",
   "id": "283a3352-ab78-45cd-9872-05d0161aece4",
   "metadata": {},
   "source": [
    "<a id = '0'></a>\n",
    "<p style = \"font-size : 30px; color : white ; text-align : center; background-color : Green; border-radius: 5px 5px; padding : 10px\"><strong>Хакатон от Сбера \"Красивый код\"</strong></p> "
   ]
  },
  {
   "cell_type": "markdown",
   "id": "6587a23c-93c3-4d53-9de6-b4a37770429a",
   "metadata": {},
   "source": [
    "<h1 style=\"text-align: center;\">Условия задания</h1>\n",
    "\n",
    "Постройте наилучшую модель, которая на основании размеченных данных будет предсказывать качество пароля, введенного пользователем.   \n",
    "Данные состоят из примеров паролей и их оценок: 0 (слабый), 1 (средний) и 2 (сильный).\n",
    "\n",
    "Дополнительные требования:\n",
    "\n",
    "Предусмотреть возможность проверки новых паролей.  \n",
    "Прокомментировать и обосновать преобразования данных, выбор метода и метрики для оценивания результата предсказания модели."
   ]
  },
  {
   "cell_type": "markdown",
   "id": "564baffb-5933-44fc-a170-8546fb00fa30",
   "metadata": {},
   "source": [
    "<h1 style=\"text-align: center;\">Загрузка пакетов</h1>"
   ]
  },
  {
   "cell_type": "code",
   "execution_count": 1,
   "id": "3e7bd7f9-2887-4d6d-8533-6e5b79ec5ede",
   "metadata": {},
   "outputs": [],
   "source": [
    "import pandas as pd\n",
    "import numpy as np\n",
    "import matplotlib.pyplot as plt\n",
    "import seaborn as sns\n",
    "\n",
    "from sklearn import linear_model #линейные модели\n",
    "from sklearn.model_selection import train_test_split\n",
    "from sklearn import metrics\n",
    "from sklearn.metrics import precision_score, confusion_matrix, accuracy_score\n",
    "from sklearn.metrics import classification_report\n",
    "\n",
    "from sklearn.feature_extraction.text import TfidfVectorizer\n",
    "from sklearn.naive_bayes import MultinomialNB"
   ]
  },
  {
   "cell_type": "markdown",
   "id": "352cd95b-4bfd-4191-b96a-c2330e9a5d5d",
   "metadata": {},
   "source": [
    "<h1 style=\"text-align: center;\">Данные их структура</h1>"
   ]
  },
  {
   "cell_type": "code",
   "execution_count": 2,
   "id": "d82f663e-3ad5-4442-9969-64941a77b9ca",
   "metadata": {},
   "outputs": [
    {
     "data": {
      "text/html": [
       "<div>\n",
       "<style scoped>\n",
       "    .dataframe tbody tr th:only-of-type {\n",
       "        vertical-align: middle;\n",
       "    }\n",
       "\n",
       "    .dataframe tbody tr th {\n",
       "        vertical-align: top;\n",
       "    }\n",
       "\n",
       "    .dataframe thead th {\n",
       "        text-align: right;\n",
       "    }\n",
       "</style>\n",
       "<table border=\"1\" class=\"dataframe\">\n",
       "  <thead>\n",
       "    <tr style=\"text-align: right;\">\n",
       "      <th></th>\n",
       "      <th>password</th>\n",
       "      <th>strength</th>\n",
       "    </tr>\n",
       "  </thead>\n",
       "  <tbody>\n",
       "    <tr>\n",
       "      <th>0</th>\n",
       "      <td>yrtzuab476</td>\n",
       "      <td>1</td>\n",
       "    </tr>\n",
       "    <tr>\n",
       "      <th>1</th>\n",
       "      <td>yEdnN9jc1NgzkkBP</td>\n",
       "      <td>2</td>\n",
       "    </tr>\n",
       "    <tr>\n",
       "      <th>2</th>\n",
       "      <td>sarita99</td>\n",
       "      <td>1</td>\n",
       "    </tr>\n",
       "    <tr>\n",
       "      <th>3</th>\n",
       "      <td>Suramerica2015</td>\n",
       "      <td>2</td>\n",
       "    </tr>\n",
       "    <tr>\n",
       "      <th>4</th>\n",
       "      <td>PPRbMvDIxMQ19TMo</td>\n",
       "      <td>2</td>\n",
       "    </tr>\n",
       "  </tbody>\n",
       "</table>\n",
       "</div>"
      ],
      "text/plain": [
       "           password  strength\n",
       "0        yrtzuab476         1\n",
       "1  yEdnN9jc1NgzkkBP         2\n",
       "2          sarita99         1\n",
       "3    Suramerica2015         2\n",
       "4  PPRbMvDIxMQ19TMo         2"
      ]
     },
     "execution_count": 2,
     "metadata": {},
     "output_type": "execute_result"
    }
   ],
   "source": [
    "pas = pd.read_csv('passwords.csv')\n",
    "pas.head()"
   ]
  },
  {
   "cell_type": "code",
   "execution_count": 3,
   "id": "d26bc082-1cfb-4a95-a1bc-1db66739e757",
   "metadata": {},
   "outputs": [
    {
     "name": "stdout",
     "output_type": "stream",
     "text": [
      "<class 'pandas.core.frame.DataFrame'>\n",
      "RangeIndex: 100000 entries, 0 to 99999\n",
      "Data columns (total 2 columns):\n",
      " #   Column    Non-Null Count   Dtype \n",
      "---  ------    --------------   ----- \n",
      " 0   password  100000 non-null  object\n",
      " 1   strength  100000 non-null  int64 \n",
      "dtypes: int64(1), object(1)\n",
      "memory usage: 1.5+ MB\n"
     ]
    }
   ],
   "source": [
    "pas.info()"
   ]
  },
  {
   "cell_type": "code",
   "execution_count": 4,
   "id": "f7fd2f21-bbd8-4fc2-8626-089628f4b322",
   "metadata": {},
   "outputs": [
    {
     "name": "stdout",
     "output_type": "stream",
     "text": [
      "100000\n",
      "[1 2 0]\n"
     ]
    }
   ],
   "source": [
    "print(pas['password'].nunique())\n",
    "print(pas['strength'].unique())"
   ]
  },
  {
   "cell_type": "code",
   "execution_count": 5,
   "id": "460d7fad-5d22-4016-9834-7a6399d892c2",
   "metadata": {},
   "outputs": [
    {
     "data": {
      "text/plain": [
       "<Axes: xlabel='strength', ylabel='count'>"
      ]
     },
     "execution_count": 5,
     "metadata": {},
     "output_type": "execute_result"
    },
    {
     "data": {
      "image/png": "[encoded data removed]",
      "text/plain": [
       "<Figure size 640x480 with 1 Axes>"
      ]
     },
     "metadata": {},
     "output_type": "display_data"
    }
   ],
   "source": [
    "sns.countplot(data=pas, x='strength')"
   ]
  },
  {
   "cell_type": "markdown",
   "id": "ab13b02b-1a98-44af-a68a-b1cc058a21cb",
   "metadata": {},
   "source": [
    "Данные представлены двумя признаками:  \n",
    "* password - сами пароли; 100 000 не пустых уникальных строковых значений\n",
    "* strength - категория пароля: 0, 1, 2; 100 000 не пустых числовых значений\n",
    "* наблюдается явный дисбаланс классов"
   ]
  },
  {
   "cell_type": "markdown",
   "id": "c2e0d719-09b0-470c-a94d-acaa35189931",
   "metadata": {},
   "source": [
    "<h1 style=\"text-align: center;\">Классификация</h1>"
   ]
  },
  {
   "cell_type": "markdown",
   "id": "0f861540-3aa3-48f4-9fd4-5194151d1ac3",
   "metadata": {},
   "source": [
    "В исходных данных целевой признак является категориальным - з класса сложности паролей.  \n",
    "Необходимо предсказать класс сложности новых паролей на основе имеющихся размеченных данных.  \n",
    "Данная задача относится к виду обучения - *обучение с учителем*, типу обучения - *мультиклассовая классификация*.  \n",
    "**Цель** — построить модель, которая на основе признаков разделяет объекты на классы наилучшим образом.  \n",
    "Для решения задачи будет использована **логистическая регрессия (Logistic Regression)** поскольку данный метод обладает интерпритируемыми метриками качества модели, не требует большого количества ресурсов для произведения вычислений, а так же подбора гиперпараметров для модели."
   ]
  },
  {
   "cell_type": "markdown",
   "id": "1e407824-fb0d-4bd5-9e0f-d5d2db675c36",
   "metadata": {},
   "source": [
    "<h2 style=\"text-align: center;\">Базовая модель</h2>"
   ]
  },
  {
   "cell_type": "code",
   "execution_count": 6,
   "id": "545ae92d-9a27-47b2-b7a5-258b3d924d28",
   "metadata": {},
   "outputs": [
    {
     "name": "stdout",
     "output_type": "stream",
     "text": [
      "Train: (80000, 1) (80000,)\n",
      "Test: (20000, 1) (20000,)\n"
     ]
    }
   ],
   "source": [
    "X = pas.drop(['strength'], axis = 1)                                 # зададим признак для обучения модели \n",
    "y = pas['strength']                                                  # выделим целевую переменую\n",
    "X_train, X_test, y_train, y_test = train_test_split(X, \n",
    "                                                    y, \n",
    "                                                    stratify=y,       # стратифицированое разбиение для избежания дисбаланса классов в тренировочной и тестовой выборках\n",
    "                                                    test_size = 0.2,   # разделим выборку на тренировочную и тестовую в соотношении 80/20\n",
    "                                                    random_state=42)  # Устанавливаем random_state для воспроизводимости результатов \n",
    "\n",
    "#Выводим результирующие размеры таблиц\n",
    "print('Train:', X_train.shape, y_train.shape)   \n",
    "print('Test:', X_test.shape, y_test.shape)"
   ]
  },
  {
   "cell_type": "code",
   "execution_count": 7,
   "id": "898989ba-e9e4-498d-a756-dfeac3746031",
   "metadata": {},
   "outputs": [
    {
     "data": {
      "text/html": [
       "<style>#sk-container-id-1 {color: black;}#sk-container-id-1 pre{padding: 0;}#sk-container-id-1 div.sk-toggleable {background-color: white;}#sk-container-id-1 label.sk-toggleable__label {cursor: pointer;display: block;width: 100%;margin-bottom: 0;padding: 0.3em;box-sizing: border-box;text-align: center;}#sk-container-id-1 label.sk-toggleable__label-arrow:before {content: \"▸\";float: left;margin-right: 0.25em;color: #696969;}#sk-container-id-1 label.sk-toggleable__label-arrow:hover:before {color: black;}#sk-container-id-1 div.sk-estimator:hover label.sk-toggleable__label-arrow:before {color: black;}#sk-container-id-1 div.sk-toggleable__content {max-height: 0;max-width: 0;overflow: hidden;text-align: left;background-color: #f0f8ff;}#sk-container-id-1 div.sk-toggleable__content pre {margin: 0.2em;color: black;border-radius: 0.25em;background-color: #f0f8ff;}#sk-container-id-1 input.sk-toggleable__control:checked~div.sk-toggleable__content {max-height: 200px;max-width: 100%;overflow: auto;}#sk-container-id-1 input.sk-toggleable__control:checked~label.sk-toggleable__label-arrow:before {content: \"▾\";}#sk-container-id-1 div.sk-estimator input.sk-toggleable__control:checked~label.sk-toggleable__label {background-color: #d4ebff;}#sk-container-id-1 div.sk-label input.sk-toggleable__control:checked~label.sk-toggleable__label {background-color: #d4ebff;}#sk-container-id-1 input.sk-hidden--visually {border: 0;clip: rect(1px 1px 1px 1px);clip: rect(1px, 1px, 1px, 1px);height: 1px;margin: -1px;overflow: hidden;padding: 0;position: absolute;width: 1px;}#sk-container-id-1 div.sk-estimator {font-family: monospace;background-color: #f0f8ff;border: 1px dotted black;border-radius: 0.25em;box-sizing: border-box;margin-bottom: 0.5em;}#sk-container-id-1 div.sk-estimator:hover {background-color: #d4ebff;}#sk-container-id-1 div.sk-parallel-item::after {content: \"\";width: 100%;border-bottom: 1px solid gray;flex-grow: 1;}#sk-container-id-1 div.sk-label:hover label.sk-toggleable__label {background-color: #d4ebff;}#sk-container-id-1 div.sk-serial::before {content: \"\";position: absolute;border-left: 1px solid gray;box-sizing: border-box;top: 0;bottom: 0;left: 50%;z-index: 0;}#sk-container-id-1 div.sk-serial {display: flex;flex-direction: column;align-items: center;background-color: white;padding-right: 0.2em;padding-left: 0.2em;position: relative;}#sk-container-id-1 div.sk-item {position: relative;z-index: 1;}#sk-container-id-1 div.sk-parallel {display: flex;align-items: stretch;justify-content: center;background-color: white;position: relative;}#sk-container-id-1 div.sk-item::before, #sk-container-id-1 div.sk-parallel-item::before {content: \"\";position: absolute;border-left: 1px solid gray;box-sizing: border-box;top: 0;bottom: 0;left: 50%;z-index: -1;}#sk-container-id-1 div.sk-parallel-item {display: flex;flex-direction: column;z-index: 1;position: relative;background-color: white;}#sk-container-id-1 div.sk-parallel-item:first-child::after {align-self: flex-end;width: 50%;}#sk-container-id-1 div.sk-parallel-item:last-child::after {align-self: flex-start;width: 50%;}#sk-container-id-1 div.sk-parallel-item:only-child::after {width: 0;}#sk-container-id-1 div.sk-dashed-wrapped {border: 1px dashed gray;margin: 0 0.4em 0.5em 0.4em;box-sizing: border-box;padding-bottom: 0.4em;background-color: white;}#sk-container-id-1 div.sk-label label {font-family: monospace;font-weight: bold;display: inline-block;line-height: 1.2em;}#sk-container-id-1 div.sk-label-container {text-align: center;}#sk-container-id-1 div.sk-container {/* jupyter's `normalize.less` sets `[hidden] { display: none; }` but bootstrap.min.css set `[hidden] { display: none !important; }` so we also need the `!important` here to be able to override the default hidden behavior on the sphinx rendered scikit-learn.org. See: https://github.com/scikit-learn/scikit-learn/issues/21755 */display: inline-block !important;position: relative;}#sk-container-id-1 div.sk-text-repr-fallback {display: none;}</style><div id=\"sk-container-id-1\" class=\"sk-top-container\"><div class=\"sk-text-repr-fallback\"><pre>LogisticRegression(max_iter=1000, multi_class=&#x27;multinomial&#x27;, random_state=42)</pre><b>In a Jupyter environment, please rerun this cell to show the HTML representation or trust the notebook. <br />On GitHub, the HTML representation is unable to render, please try loading this page with nbviewer.org.</b></div><div class=\"sk-container\" hidden><div class=\"sk-item\"><div class=\"sk-estimator sk-toggleable\"><input class=\"sk-toggleable__control sk-hidden--visually\" id=\"sk-estimator-id-1\" type=\"checkbox\" checked><label for=\"sk-estimator-id-1\" class=\"sk-toggleable__label sk-toggleable__label-arrow\">LogisticRegression</label><div class=\"sk-toggleable__content\"><pre>LogisticRegression(max_iter=1000, multi_class=&#x27;multinomial&#x27;, random_state=42)</pre></div></div></div></div></div>"
      ],
      "text/plain": [
       "LogisticRegression(max_iter=1000, multi_class='multinomial', random_state=42)"
      ]
     },
     "execution_count": 7,
     "metadata": {},
     "output_type": "execute_result"
    }
   ],
   "source": [
    "# Преобразование текстовых данных в матрицу TF-IDF\n",
    "tfidf_vectorizer = TfidfVectorizer()\n",
    "X_train_tfidf = tfidf_vectorizer.fit_transform(X_train['password'])     # tfidf_vectorizer.fit_transform принимает только 1 столбец на вход за раз, по-этому зададим непосредственно признак\n",
    "X_test_tfidf = tfidf_vectorizer.transform(X_test['password'])\n",
    "\n",
    "log_reg_base = linear_model.LogisticRegression(                              # Создаём объект класса LogisticRegression\n",
    "                                               multi_class='multinomial',    #мультиклассовая классификация\n",
    "                                               max_iter=1000,                #количество итераций, выделенных на сходимость\n",
    "                                               random_state=42               #генерация случайных чисел\n",
    "                                                )         \n",
    "log_reg_base.fit(X_train_tfidf, y_train)                                # Обучаем модель на тренировочных данных, которые составляют 70% от выборки"
   ]
  },
  {
   "cell_type": "markdown",
   "id": "9900c081-c98c-4767-a7fc-b621abbddcb5",
   "metadata": {},
   "source": [
    "Посмотрим на метрики модели."
   ]
  },
  {
   "cell_type": "code",
   "execution_count": 8,
   "id": "36446d45-649c-4db8-aa0d-977e1a230d20",
   "metadata": {},
   "outputs": [
    {
     "data": {
      "text/plain": [
       "Text(33.22222222222222, 0.5, 'y true')"
      ]
     },
     "execution_count": 8,
     "metadata": {},
     "output_type": "execute_result"
    },
    {
     "data": {
      "image/png": "[encoded data removed]",
      "text/plain": [
       "<Figure size 500x300 with 2 Axes>"
      ]
     },
     "metadata": {},
     "output_type": "display_data"
    }
   ],
   "source": [
    "y_pred_train_base = log_reg_base.predict(X_train_tfidf)                          # получаем предсказание для тренировочных данных\n",
    "confusion_matrix_base = metrics.confusion_matrix(y_train, y_pred_train_base)     # Строим матрицу ошибок\n",
    "\n",
    "#Визуализируем матрицу ошибок\n",
    "fig, axes = plt.subplots(1, 1, figsize=(5, 3))                                   # фигура координатная плоскость\n",
    "sns.heatmap(confusion_matrix_base, annot=True, fmt='', ax=axes, cmap='Greens')    # Строим тепловую карту для первой матрицы ошибок\n",
    "\n",
    "#Добавляем название графику и подписи осей абсцисс и ординат\n",
    "axes.set_title('Confusion matrix for log_reg_2d')\n",
    "axes.set_xlabel('y prediction')\n",
    "axes.set_ylabel('y true')"
   ]
  },
  {
   "cell_type": "code",
   "execution_count": 9,
   "id": "4e91c9bd-a9df-4f91-9937-de1fd95f31d0",
   "metadata": {},
   "outputs": [
    {
     "name": "stdout",
     "output_type": "stream",
     "text": [
      "              precision    recall  f1-score   support\n",
      "\n",
      "           0       0.95      0.00      0.00     10742\n",
      "           1       0.74      1.00      0.85     59423\n",
      "           2       0.91      0.02      0.04      9835\n",
      "\n",
      "    accuracy                           0.75     80000\n",
      "   macro avg       0.87      0.34      0.30     80000\n",
      "weighted avg       0.79      0.75      0.64     80000\n",
      "\n"
     ]
    }
   ],
   "source": [
    "report_base = classification_report(y_train, y_pred_train_base)  # Создание отчета о классификации\n",
    "print(report_base)                                               # Вывод отчета"
   ]
  },
  {
   "cell_type": "markdown",
   "id": "80d15732-0918-4165-a8ab-b422131bc262",
   "metadata": {},
   "source": [
    "**Интерпретация метрик:**\n",
    "* в целом модель не плохо определяет пароли класса 1, но это скорее всего связано с наличием дисбаланса в выборках;    \n",
    "* что касается классов 0 и 2, при получении новых данных, модель с большой вероятностью классифицирует их не верно и отнесет к классу 1.\n",
    "* метрика accuracy не будет учитываться, поскольку наблюдается явный дисбаланс в классах.\n",
    "\n",
    "Поскольку для решения задачи в приоретете распознать не надежные пароли, ориентироваться будем на метрику recall, а она говорит нам о том, что ни 0, ни 2 классы модель определять не научилась."
   ]
  },
  {
   "cell_type": "markdown",
   "id": "52956ddb-902f-42ea-84f2-313c8eae2d04",
   "metadata": {},
   "source": [
    "<h2 style=\"text-align: center;\">Оптимальная модель</h2>"
   ]
  },
  {
   "cell_type": "markdown",
   "id": "91f1b4c8-ab96-4b18-8ce2-bda3ffafb5a5",
   "metadata": {},
   "source": [
    "Национальный институт стандартов и технологий (США) (NIST) для оценки энтропии пароля, созданного человеком и не включающего символы из неанглийских алфавитов, предлагает использовать следующий алгоритм:\n",
    "\n",
    "* энтропия первого символа принимается равной 4 битам;\n",
    "* энтропия следующих семи символов принимается равной по 2 бита на каждый символ;\n",
    "* энтропия символов от 9-го до 20-го принимается равной по 1,5 бита на каждый символ;\n",
    "* энтропия символов от 21-го и последующих принимается равной 1 биту на каждый символ;\n",
    "* энтропия пароля принимается равной сумме энтропий символов;\n",
    "* если в пароле используются заглавные буквы и неалфавитные символы, то к сумме прибавляется ещё 6 бит.\n",
    "\n",
    "Используем данный алгоритм для подсчета энтропии пароля."
   ]
  },
  {
   "cell_type": "code",
   "execution_count": 10,
   "id": "db94c175-4fda-4f1e-84f2-0818e32e0eee",
   "metadata": {},
   "outputs": [],
   "source": [
    "pas1 = pas.copy()   # создадим копию датасета, что бы не потерять первоначальные данные при преобразовании"
   ]
  },
  {
   "cell_type": "code",
   "execution_count": 11,
   "id": "a175e2ec-1d1f-49e9-bbc8-049e99232de1",
   "metadata": {},
   "outputs": [],
   "source": [
    "# введем коэффициенты\n",
    "\n",
    "w2_8 = 2       # энтропия символов со 2 по 8 символы\n",
    "w9_20 = 1.5    # энтропия символов с 9 по 20 символы\n",
    "w21 = 1        # энтропия символов с 21 символа\n",
    "w_s = 6        # дополнительная энтропия за использование заглавных букв и неалфовитных символов"
   ]
  },
  {
   "cell_type": "code",
   "execution_count": 12,
   "id": "07031334-077e-4a5b-a2e2-7ad75dd91297",
   "metadata": {},
   "outputs": [],
   "source": [
    "# Функция для вычисления энтропии пароля\n",
    "def entropy_func(row, column_name):                                                                              # на вход будем принимать строку датасета и итерироваться по выбранному признаку\n",
    "    if not any(c.isalnum() for c in row[column_name]):                                                           # добавим дополнительное условие, если пароль состоит только из символов\n",
    "        return 0                                                                                                 # присваеваем энторпию = 0, в противном случае\n",
    "    else:\n",
    "        if len(row[column_name]) <= 8 and not any(c.isupper() and c.isalnum() for c in row[column_name]):        # если длина пароля <= 8 символов и он состоит только из букв и цифр\n",
    "            return 4 + (len(row[column_name]) - 1) * w2_8                                                        # энтропия будет равна 4 + (длина пароля - 1) * 2\n",
    "        elif len(row[column_name]) <= 8 and any(c.isupper() or not c.isalnum() for c in row[column_name]):       # если длина пароля <= 8 и содержит заглавные буквы или неалфовитные символы\n",
    "            return 4 + (len(row[column_name]) - 1) * w2_8 + w_s                                                  # энтропия будет равна 4 + (длина пароля - 1) * 2 + 6\n",
    "        elif 8 < len(row[column_name]) <= 20 and not any(c.isupper() and c.isalnum() for c in row[column_name]): # если длина пароля <= 20 символам и он состоит только из букв и цифр\n",
    "            return 4 + 7 * w2_8 + (len(row[column_name]) - 8) * w9_20                                            # энтропия будет равна 4 + 7 * 2 + (длина пароля - 8)*1,5\n",
    "        elif 8 < len(row[column_name]) <= 20 and any(c.isupper() or not c.isalnum() for c in row[column_name]):  # если длина пароля <= 20 и содержит заглавные буквы или неалфовитные символы\n",
    "            return 4 + 7 * w2_8 + (len(row[column_name]) - 8) * w9_20 + w_s                                      # энтропия будет равна 4 + 7 * 2 + (длина пароля - 8)*1,5 + 6\n",
    "        elif len(row[column_name]) > 20 and not any(c.isupper() and c.isalnum() for c in row[column_name]):      # если длина пароля > 20 символов и он состоит только из букв и цифр\n",
    "            return 4 + 7 * w2_8 + 12 * w9_20 + len(row[column_name]) - 20                                        # энтропия будет равна 4 + 7 * 2 + 12*1,5 + длина пароля - 20\n",
    "        elif len(row[column_name]) > 20 and any(c.isupper() or not c.isalnum() for c in row[column_name]):       # если длина пароля > 20 и содержит заглавные буквы или неалфовитные символы\n",
    "            return 4 + 7 * w2_8 + 12 * w9_20 + len(row[column_name]) - 20 + w_s                                  # энтропия будет равна 4 + 7 * 2 + 12*1,5 + длина пароля - 20 + 6\n",
    "        else:\n",
    "            return None"
   ]
  },
  {
   "cell_type": "code",
   "execution_count": 13,
   "id": "1f21747d-b206-4412-a054-9f0a0a4d92e1",
   "metadata": {},
   "outputs": [
    {
     "data": {
      "text/html": [
       "<div>\n",
       "<style scoped>\n",
       "    .dataframe tbody tr th:only-of-type {\n",
       "        vertical-align: middle;\n",
       "    }\n",
       "\n",
       "    .dataframe tbody tr th {\n",
       "        vertical-align: top;\n",
       "    }\n",
       "\n",
       "    .dataframe thead th {\n",
       "        text-align: right;\n",
       "    }\n",
       "</style>\n",
       "<table border=\"1\" class=\"dataframe\">\n",
       "  <thead>\n",
       "    <tr style=\"text-align: right;\">\n",
       "      <th></th>\n",
       "      <th>password</th>\n",
       "      <th>strength</th>\n",
       "      <th>entropy</th>\n",
       "    </tr>\n",
       "  </thead>\n",
       "  <tbody>\n",
       "    <tr>\n",
       "      <th>0</th>\n",
       "      <td>yrtzuab476</td>\n",
       "      <td>1</td>\n",
       "      <td>21.0</td>\n",
       "    </tr>\n",
       "    <tr>\n",
       "      <th>1</th>\n",
       "      <td>yEdnN9jc1NgzkkBP</td>\n",
       "      <td>2</td>\n",
       "      <td>36.0</td>\n",
       "    </tr>\n",
       "    <tr>\n",
       "      <th>2</th>\n",
       "      <td>sarita99</td>\n",
       "      <td>1</td>\n",
       "      <td>18.0</td>\n",
       "    </tr>\n",
       "    <tr>\n",
       "      <th>3</th>\n",
       "      <td>Suramerica2015</td>\n",
       "      <td>2</td>\n",
       "      <td>33.0</td>\n",
       "    </tr>\n",
       "    <tr>\n",
       "      <th>4</th>\n",
       "      <td>PPRbMvDIxMQ19TMo</td>\n",
       "      <td>2</td>\n",
       "      <td>36.0</td>\n",
       "    </tr>\n",
       "  </tbody>\n",
       "</table>\n",
       "</div>"
      ],
      "text/plain": [
       "           password  strength  entropy\n",
       "0        yrtzuab476         1     21.0\n",
       "1  yEdnN9jc1NgzkkBP         2     36.0\n",
       "2          sarita99         1     18.0\n",
       "3    Suramerica2015         2     33.0\n",
       "4  PPRbMvDIxMQ19TMo         2     36.0"
      ]
     },
     "execution_count": 13,
     "metadata": {},
     "output_type": "execute_result"
    }
   ],
   "source": [
    "column_name = 'password'                                            # указываем имя столбца, который будем использовать \n",
    "\n",
    "def assign_entropy_funk(row):                                       # создадим вспомогаельную функцию assign_entropy_funk(), которая будет принимать на вход строку датасета\n",
    "    return entropy_func(row, column_name)                           # затем вызывать функцию entropy_func() и вместе со строкой передавать ей выбранный признак\n",
    "\n",
    "pas1 = pas1.assign(entropy=pas1.apply(assign_entropy_funk,          # создадим новый признак \"entropy\" с помощью функции assign_entropy_funk()\n",
    "                                      axis=1))                      # для того, что бы избежать выхода предупреждений от pandas о попытке изменить данные, применим метод assign\n",
    "pas1.head()                                                         # посмотрим на результат работы функции assign_entropy_funk()"
   ]
  },
  {
   "cell_type": "code",
   "execution_count": 14,
   "id": "1e7468ee-54fa-470d-b2cc-49f331499fa9",
   "metadata": {},
   "outputs": [
    {
     "data": {
      "text/plain": [
       "0"
      ]
     },
     "execution_count": 14,
     "metadata": {},
     "output_type": "execute_result"
    }
   ],
   "source": [
    "sum(np.isnan(pas1['entropy']))  # посмотрим есть ли в результате работы функции пропущенные значения"
   ]
  },
  {
   "cell_type": "markdown",
   "id": "b89df4b5-e38e-4a65-8e42-367c65fb793c",
   "metadata": {},
   "source": [
    "Обучим модель на данных энтропии"
   ]
  },
  {
   "cell_type": "code",
   "execution_count": 15,
   "id": "6797e532-f29e-4edd-a2e1-2e71600bf210",
   "metadata": {},
   "outputs": [
    {
     "name": "stdout",
     "output_type": "stream",
     "text": [
      "Train: (80000, 1) (80000,)\n",
      "Test: (20000, 1) (20000,)\n"
     ]
    }
   ],
   "source": [
    "X_ent = pas1.drop(['password', 'strength'], axis = 1)                        # зададим новую переменную для признака для обучения модели \n",
    "y = pas1['strength']                                                         # выделим целевую переменую\n",
    "X_train_ent, X_test_ent, y_train, y_test = train_test_split(X_ent, \n",
    "                                                            y, \n",
    "                                                            stratify=y,       # стратифицированое разбиение для избежания дисбаланса классов в тренировочной и тестовой выборках\n",
    "                                                            test_size = 0.2,  # разделим выборку на тренировочную и тестовую в соотношении 80/20\n",
    "                                                            random_state=42)  # Устанавливаем random_state для воспроизводимости результатов \n",
    "\n",
    "#Выводим результирующие размеры таблиц\n",
    "print('Train:', X_train_ent.shape, y_train.shape)   \n",
    "print('Test:', X_test_ent.shape, y_test.shape)"
   ]
  },
  {
   "cell_type": "code",
   "execution_count": 16,
   "id": "5c1a3d42-14e4-4fa8-8f34-cada94d4ae6d",
   "metadata": {},
   "outputs": [
    {
     "data": {
      "text/html": [
       "<style>#sk-container-id-2 {color: black;}#sk-container-id-2 pre{padding: 0;}#sk-container-id-2 div.sk-toggleable {background-color: white;}#sk-container-id-2 label.sk-toggleable__label {cursor: pointer;display: block;width: 100%;margin-bottom: 0;padding: 0.3em;box-sizing: border-box;text-align: center;}#sk-container-id-2 label.sk-toggleable__label-arrow:before {content: \"▸\";float: left;margin-right: 0.25em;color: #696969;}#sk-container-id-2 label.sk-toggleable__label-arrow:hover:before {color: black;}#sk-container-id-2 div.sk-estimator:hover label.sk-toggleable__label-arrow:before {color: black;}#sk-container-id-2 div.sk-toggleable__content {max-height: 0;max-width: 0;overflow: hidden;text-align: left;background-color: #f0f8ff;}#sk-container-id-2 div.sk-toggleable__content pre {margin: 0.2em;color: black;border-radius: 0.25em;background-color: #f0f8ff;}#sk-container-id-2 input.sk-toggleable__control:checked~div.sk-toggleable__content {max-height: 200px;max-width: 100%;overflow: auto;}#sk-container-id-2 input.sk-toggleable__control:checked~label.sk-toggleable__label-arrow:before {content: \"▾\";}#sk-container-id-2 div.sk-estimator input.sk-toggleable__control:checked~label.sk-toggleable__label {background-color: #d4ebff;}#sk-container-id-2 div.sk-label input.sk-toggleable__control:checked~label.sk-toggleable__label {background-color: #d4ebff;}#sk-container-id-2 input.sk-hidden--visually {border: 0;clip: rect(1px 1px 1px 1px);clip: rect(1px, 1px, 1px, 1px);height: 1px;margin: -1px;overflow: hidden;padding: 0;position: absolute;width: 1px;}#sk-container-id-2 div.sk-estimator {font-family: monospace;background-color: #f0f8ff;border: 1px dotted black;border-radius: 0.25em;box-sizing: border-box;margin-bottom: 0.5em;}#sk-container-id-2 div.sk-estimator:hover {background-color: #d4ebff;}#sk-container-id-2 div.sk-parallel-item::after {content: \"\";width: 100%;border-bottom: 1px solid gray;flex-grow: 1;}#sk-container-id-2 div.sk-label:hover label.sk-toggleable__label {background-color: #d4ebff;}#sk-container-id-2 div.sk-serial::before {content: \"\";position: absolute;border-left: 1px solid gray;box-sizing: border-box;top: 0;bottom: 0;left: 50%;z-index: 0;}#sk-container-id-2 div.sk-serial {display: flex;flex-direction: column;align-items: center;background-color: white;padding-right: 0.2em;padding-left: 0.2em;position: relative;}#sk-container-id-2 div.sk-item {position: relative;z-index: 1;}#sk-container-id-2 div.sk-parallel {display: flex;align-items: stretch;justify-content: center;background-color: white;position: relative;}#sk-container-id-2 div.sk-item::before, #sk-container-id-2 div.sk-parallel-item::before {content: \"\";position: absolute;border-left: 1px solid gray;box-sizing: border-box;top: 0;bottom: 0;left: 50%;z-index: -1;}#sk-container-id-2 div.sk-parallel-item {display: flex;flex-direction: column;z-index: 1;position: relative;background-color: white;}#sk-container-id-2 div.sk-parallel-item:first-child::after {align-self: flex-end;width: 50%;}#sk-container-id-2 div.sk-parallel-item:last-child::after {align-self: flex-start;width: 50%;}#sk-container-id-2 div.sk-parallel-item:only-child::after {width: 0;}#sk-container-id-2 div.sk-dashed-wrapped {border: 1px dashed gray;margin: 0 0.4em 0.5em 0.4em;box-sizing: border-box;padding-bottom: 0.4em;background-color: white;}#sk-container-id-2 div.sk-label label {font-family: monospace;font-weight: bold;display: inline-block;line-height: 1.2em;}#sk-container-id-2 div.sk-label-container {text-align: center;}#sk-container-id-2 div.sk-container {/* jupyter's `normalize.less` sets `[hidden] { display: none; }` but bootstrap.min.css set `[hidden] { display: none !important; }` so we also need the `!important` here to be able to override the default hidden behavior on the sphinx rendered scikit-learn.org. See: https://github.com/scikit-learn/scikit-learn/issues/21755 */display: inline-block !important;position: relative;}#sk-container-id-2 div.sk-text-repr-fallback {display: none;}</style><div id=\"sk-container-id-2\" class=\"sk-top-container\"><div class=\"sk-text-repr-fallback\"><pre>LogisticRegression(max_iter=1000, multi_class=&#x27;multinomial&#x27;, random_state=42)</pre><b>In a Jupyter environment, please rerun this cell to show the HTML representation or trust the notebook. <br />On GitHub, the HTML representation is unable to render, please try loading this page with nbviewer.org.</b></div><div class=\"sk-container\" hidden><div class=\"sk-item\"><div class=\"sk-estimator sk-toggleable\"><input class=\"sk-toggleable__control sk-hidden--visually\" id=\"sk-estimator-id-2\" type=\"checkbox\" checked><label for=\"sk-estimator-id-2\" class=\"sk-toggleable__label sk-toggleable__label-arrow\">LogisticRegression</label><div class=\"sk-toggleable__content\"><pre>LogisticRegression(max_iter=1000, multi_class=&#x27;multinomial&#x27;, random_state=42)</pre></div></div></div></div></div>"
      ],
      "text/plain": [
       "LogisticRegression(max_iter=1000, multi_class='multinomial', random_state=42)"
      ]
     },
     "execution_count": 16,
     "metadata": {},
     "output_type": "execute_result"
    }
   ],
   "source": [
    "log_reg_ent = linear_model.LogisticRegression(                              # Создаём объект класса LogisticRegression\n",
    "                                               multi_class='multinomial',    #мультиклассовая классификация\n",
    "                                               max_iter=1000,                #количество итераций, выделенных на сходимость\n",
    "                                               random_state=42               #генерация случайных чисел\n",
    "                                                )      \n",
    "log_reg_ent.fit(X_train_ent, y_train)                                  # Обучаем модель на тренировочных данных, которые являются числовыми и не требуют векторизации"
   ]
  },
  {
   "cell_type": "markdown",
   "id": "8f8854fc-3bbd-4915-8193-8679def97209",
   "metadata": {},
   "source": [
    "Выводим метрики"
   ]
  },
  {
   "cell_type": "code",
   "execution_count": 17,
   "id": "8990d181-dab5-4e03-a663-0a87fd50922b",
   "metadata": {},
   "outputs": [
    {
     "data": {
      "image/png": "[encoded data removed]",
      "text/plain": [
       "<Figure size 1000x500 with 4 Axes>"
      ]
     },
     "metadata": {},
     "output_type": "display_data"
    }
   ],
   "source": [
    "y_pred_train_ent = log_reg_ent.predict(X_train_ent)                             # получаем предсказание для тренировочных данных\n",
    "y_pred_test_ent = log_reg_ent.predict(X_test_ent)                               # получаем предсказание для тестовых данных\n",
    "confusion_matrix_ent1 = metrics.confusion_matrix(y_train, y_pred_train_ent)     # Строим матрицу ошибок для тренировочных данных\n",
    "confusion_matrix_ent2 = metrics.confusion_matrix(y_test, y_pred_test_ent)      # Строим матрицу ошибок для тестовых данных\n",
    "\n",
    "#Визуализируем матрицы ошибок\n",
    "fig, axes = plt.subplots(1, 2, figsize=(10, 5))                                      # фигура координатная плоскость\n",
    "sns.heatmap(confusion_matrix_ent1, annot=True, fmt='', ax=axes[0], cmap='Greens')    # Строим тепловую карту для первой матрицы ошибок\n",
    "\n",
    "#Добавляем название графику и подписи осей абсцисс и ординат\n",
    "axes[0].set_title('Confusion matrix для тренировочных данных')\n",
    "axes[0].set_xlabel('y prediction')\n",
    "axes[0].set_ylabel('y true')\n",
    "\n",
    "sns.heatmap(confusion_matrix_ent2, annot=True, fmt='', ax=axes[1], cmap='Greens')    # Строим тепловую карту для второй матрицы ошибок\n",
    "\n",
    "#Добавляем название графику и подписи осей абсцисс и ординат\n",
    "axes[1].set_title('Confusion matrix для тестовых данных')\n",
    "axes[1].set_xlabel('y prediction')\n",
    "axes[1].set_ylabel('y true')\n",
    "\n",
    "plt.subplots_adjust(wspace=0.4)"
   ]
  },
  {
   "cell_type": "code",
   "execution_count": 18,
   "id": "757d3d92-b109-4412-bf78-a61d4ba371a8",
   "metadata": {},
   "outputs": [
    {
     "name": "stdout",
     "output_type": "stream",
     "text": [
      "              precision    recall  f1-score   support\n",
      "\n",
      "           0       1.00      0.98      0.99     10742\n",
      "           1       0.99      1.00      0.99     59423\n",
      "           2       0.99      0.96      0.97      9835\n",
      "\n",
      "    accuracy                           0.99     80000\n",
      "   macro avg       0.99      0.98      0.99     80000\n",
      "weighted avg       0.99      0.99      0.99     80000\n",
      "\n"
     ]
    }
   ],
   "source": [
    "report_train_ent = classification_report(y_train, y_pred_train_ent)  # Создание отчета о классификации для тренировочных данных\n",
    "print(report_train_ent)                                               # Вывод отчета"
   ]
  },
  {
   "cell_type": "code",
   "execution_count": 19,
   "id": "6da73c9f-1d25-48ad-a863-48a33c1279ff",
   "metadata": {},
   "outputs": [
    {
     "name": "stdout",
     "output_type": "stream",
     "text": [
      "              precision    recall  f1-score   support\n",
      "\n",
      "           0       1.00      0.98      0.99      2686\n",
      "           1       0.99      1.00      0.99     14855\n",
      "           2       0.99      0.95      0.97      2459\n",
      "\n",
      "    accuracy                           0.99     20000\n",
      "   macro avg       0.99      0.98      0.98     20000\n",
      "weighted avg       0.99      0.99      0.99     20000\n",
      "\n"
     ]
    }
   ],
   "source": [
    "report_test_ent = classification_report(y_test, y_pred_test_ent)  # Создание отчета о классификации для тренировочных данных\n",
    "print(report_test_ent)                                               # Вывод отчета"
   ]
  },
  {
   "cell_type": "markdown",
   "id": "bdf0e5ae-108f-4ae9-beb0-da22c7a23c95",
   "metadata": {},
   "source": [
    "**Интерпретация метрик**  \n",
    "1. Исходя из данных отчета classification_report() поведение модели как на тренировчных, так и на тестовых данных не отличается, соответтсвенно переобучение модели отсутствует и не требует регуляризации.\n",
    "2. Метрика recall показывает, что минимум 95% паролей будут отнесены к нужному классу. При отсутствии в бизнес - требованиях порога метрики, данный результат можно считать удовлетворительным."
   ]
  },
  {
   "cell_type": "markdown",
   "id": "147f80f0-5c6d-4105-8701-b8166c80e757",
   "metadata": {},
   "source": [
    "<h1 style=\"text-align: center;\">Проверка новых паролей</h1>"
   ]
  },
  {
   "cell_type": "code",
   "execution_count": 20,
   "id": "a47ed527-0991-4ea7-904b-c12bbe0c7697",
   "metadata": {},
   "outputs": [
    {
     "name": "stdin",
     "output_type": "stream",
     "text": [
      "Введите пароль для проверки:  !!!!!!!!!!!!!!!!!!!!!!!!!!!!!!!!!!!\n"
     ]
    }
   ],
   "source": [
    "new_passwords = input('Введите пароль для проверки: ')                                         # предусмотрим ввод нового пароля\n",
    "new_passwords = pd.DataFrame({'new_password': [new_passwords]})                                # преобразуем в форму датасета\n",
    "\n",
    "column_name = 'new_password'                                                                   # укажем имя признака для функции entropy_func()\n",
    "\n",
    "def assign_entropy_funk(row):                                                                  # применим функцию assign_entropy_funk() к новому паролю\n",
    "    return entropy_func(row, column_name)                           \n",
    "new_passwords = new_passwords.assign(entropy=new_passwords.apply(assign_entropy_funk, axis=1)) "
   ]
  },
  {
   "cell_type": "code",
   "execution_count": 21,
   "id": "59c4c5a2-1c81-4bd1-876b-fb9091d6ac1b",
   "metadata": {},
   "outputs": [
    {
     "name": "stdout",
     "output_type": "stream",
     "text": [
      "Пароль '!!!!!!!!!!!!!!!!!!!!!!!!!!!!!!!!!!!' классифицируется как: 'слабый'\n"
     ]
    }
   ],
   "source": [
    "categories = [\"слабый\", \"средний\", \"сильный\"]                                         # зададим список названий категорий\n",
    "labels = [0, 1, 2]                                                                    # зададим список классов категорий\n",
    "\n",
    "y_new_pred = log_reg_ent.predict(new_passwords.drop('new_password', axis = 1))        # подадим новый пароль обученной модели для предсказания его категории\n",
    "\n",
    "# Интерпретируем и выведем результаты\n",
    "predicted_categories = [categories[label] for label in y_new_pred]                    # для каждого класса 'label' получаем соответствующую категорию из списка категорий 'categories' и                                                                                               записываем в список 'predicted_categories' \n",
    "for password, category in zip(new_passwords['new_password'], predicted_categories):   # для каждой пары элементов new_passwords['password'] и 'predicted_categories'\n",
    "    print(f\"Пароль '{password}' классифицируется как: '{category}'\")                  # выводим на печать пароль и присвоенную категорию пароля"
   ]
  },
  {
   "cell_type": "markdown",
   "id": "f5126bb8-75e0-447e-9855-35311bf08c87",
   "metadata": {},
   "source": [
    "**Испольнитель**: Лин Светлана Сергеевна    \n",
    "**Телеграмм**: @SS_Lin"
   ]
  },
  {
   "cell_type": "markdown",
   "id": "45870471-d17f-4834-9af9-d8479abb3d94",
   "metadata": {},
   "source": [
    "Фиксирование используемых пакетов"
   ]
  },
  {
   "cell_type": "code",
   "execution_count": 22,
   "id": "0aeef471-75bd-4591-9fbe-e38d1f24d6f2",
   "metadata": {},
   "outputs": [
    {
     "name": "stdout",
     "output_type": "stream",
     "text": [
      "aiofiles==23.1.0\n",
      "aiogram==2.15\n",
      "aiohttp==3.8.5\n",
      "aiosignal==1.3.1\n",
      "anaconda-client==1.12.0\n",
      "anaconda-navigator==2.4.2\n",
      "anaconda-project @ file:///C:/Windows/TEMP/abs_91fu4tfkih/croots/recipe/anaconda-project_1660339890874/work\n",
      "annotated-types==0.5.0\n",
      "anyio==3.7.1\n",
      "appdirs==1.4.4\n",
      "argon2-cffi==21.3.0\n",
      "argon2-cffi-bindings==21.2.0\n",
      "arrow==1.2.3\n",
      "asttokens @ file:///opt/conda/conda-bld/asttokens_1646925590279/work\n",
      "async-lru==2.0.3\n",
      "async-timeout==4.0.3\n",
      "attrs @ file:///C:/b/abs_09s3y775ra/croot/attrs_1668696195628/work\n",
      "Babel==2.12.1\n",
      "backcall @ file:///home/ktietz/src/ci/backcall_1611930011877/work\n",
      "backports.functools-lru-cache @ file:///tmp/build/80754af9/backports.functools_lru_cache_1618170165463/work\n",
      "backports.tempfile @ file:///home/linux1/recipes/ci/backports.tempfile_1610991236607/work\n",
      "backports.weakref==1.0.post1\n",
      "beautifulsoup4 @ file:///C:/b/abs_0agyz1wsr4/croot/beautifulsoup4-split_1681493048687/work\n",
      "bleach==6.0.0\n",
      "boltons @ file:///C:/b/abs_707eo7c09t/croot/boltons_1677628723117/work\n",
      "Bottleneck @ file:///C:/Windows/Temp/abs_3198ca53-903d-42fd-87b4-03e6d03a8381yfwsuve8/croots/recipe/bottleneck_1657175565403/work\n",
      "Brotli==1.0.9\n",
      "brotlipy==0.7.0\n",
      "category-encoders==2.6.1\n",
      "certifi @ file:///C:/b/abs_36eb5mzhph/croot/certifi_1690232276943/work/certifi\n",
      "cffi @ file:///C:/b/abs_49n3v2hyhr/croot/cffi_1670423218144/work\n",
      "chardet @ file:///C:/ci_310/chardet_1642114080098/work\n",
      "charset-normalizer @ file:///tmp/build/80754af9/charset-normalizer_1630003229654/work\n",
      "chart-studio==1.1.0\n",
      "click @ file:///C:/ci/click_1646056762388/work\n",
      "click-plugins==1.1.1\n",
      "cligj==0.7.2\n",
      "clyent==1.2.2\n",
      "colorama @ file:///C:/b/abs_a9ozq0l032/croot/colorama_1672387194846/work\n",
      "colorlover==0.3.0\n",
      "comet-ml @ file:///opt/conda/conda-bld/comet_ml_1680180586919/work\n",
      "comm @ file:///C:/b/abs_1419earm7u/croot/comm_1671231131638/work\n",
      "conda @ file:///C:/b/abs_0b_rsup993/croot/conda_1692724563226/work\n",
      "conda-build @ file:///C:/b/abs_1f8uy1sady/croot/conda-build_1685026157582/work\n",
      "conda-content-trust @ file:///C:/Windows/TEMP/abs_4589313d-fc62-4ccc-81c0-b801b4449e833j1ajrwu/croots/recipe/conda-content-trust_1658126379362/work\n",
      "conda-pack @ file:///tmp/build/80754af9/conda-pack_1611163042455/work\n",
      "conda-package-handling @ file:///C:/b/abs_ce4_vcfd0y/croot/conda-package-handling_1685024800103/work\n",
      "conda-repo-cli==1.0.41\n",
      "conda-token @ file:///Users/paulyim/miniconda3/envs/c3i/conda-bld/conda-token_1662660369760/work\n",
      "conda-verify==3.4.2\n",
      "conda_index @ file:///C:/b/abs_fdzc90a1i7/croot/conda-index_1672127344383/work\n",
      "conda_package_streaming @ file:///C:/b/abs_88a7k_wmm1/croot/conda-package-streaming_1685019697115/work\n",
      "configobj==5.0.6\n",
      "contourpy==1.1.0\n",
      "cryptography @ file:///C:/b/abs_8ecplyc3n2/croot/cryptography_1677533105000/work\n",
      "cufflinks==0.17.3\n",
      "cycler==0.11.0\n",
      "dacite==1.8.1\n",
      "dash==2.10.0\n",
      "dash-bootstrap-components==1.3.1\n",
      "dash-colorscales==0.0.4\n",
      "dash-core-components==2.0.0\n",
      "dash-daq==0.5.0\n",
      "dash-html-components==2.0.0\n",
      "dash-table==5.0.0\n",
      "DAWG-Python==0.7.2\n",
      "debugpy @ file:///C:/ci_310/debugpy_1642079916595/work\n",
      "decorator @ file:///opt/conda/conda-bld/decorator_1643638310831/work\n",
      "defusedxml @ file:///tmp/build/80754af9/defusedxml_1615228127516/work\n",
      "docopt==0.6.2\n",
      "docutils==0.20.1\n",
      "dtale==2.16.0\n",
      "dulwich @ file:///C:/b/abs_5ahq422mfw/croot/dulwich_1679420068831/work\n",
      "et-xmlfile==1.1.0\n",
      "everett @ file:///home/conda/feedstock_root/build_artifacts/everett_1679413430415/work\n",
      "exceptiongroup==1.1.2\n",
      "executing @ file:///opt/conda/conda-bld/executing_1646925071911/work\n",
      "fastjsonschema @ file:///C:/Users/BUILDE~1/AppData/Local/Temp/abs_ebruxzvd08/croots/recipe/python-fastjsonschema_1661376484940/work\n",
      "filelock @ file:///C:/b/abs_c7yrhs9uz2/croot/filelock_1672387617533/work\n",
      "Fiona==1.9.4.post1\n",
      "Flask-Compress==1.13\n",
      "flask-ngrok==0.0.25\n",
      "fonttools==4.41.0\n",
      "fqdn==1.5.1\n",
      "frozenlist==1.4.0\n",
      "future @ file:///C:/b/abs_3dcibf18zi/croot/future_1677599891380/work\n",
      "geopandas==0.13.2\n",
      "glob2 @ file:///home/linux1/recipes/ci/glob2_1610991677669/work\n",
      "htmlmin==0.1.12\n",
      "idna @ file:///C:/b/abs_bdhbebrioa/croot/idna_1666125572046/work\n",
      "ImageHash==4.3.1\n",
      "importlib-resources==5.12.0\n",
      "ipykernel @ file:///C:/b/abs_b4f07tbsyd/croot/ipykernel_1672767104060/work\n",
      "ipython @ file:///C:/b/abs_d1yx5tjhli/croot/ipython_1680701887259/work\n",
      "ipywidgets @ file:///C:/b/abs_5awapknmz_/croot/ipywidgets_1679394824767/work\n",
      "isoduration==20.11.0\n",
      "jedi @ file:///C:/ci/jedi_1644315428305/work\n",
      "Jinja2 @ file:///C:/b/abs_7cdis66kl9/croot/jinja2_1666908141852/work\n",
      "joblib @ file:///C:/b/abs_1anqjntpan/croot/joblib_1685113317150/work\n",
      "json5==0.9.14\n",
      "jsonpatch @ file:///tmp/build/80754af9/jsonpatch_1615747632069/work\n",
      "jsonpointer==2.1\n",
      "jsonschema @ file:///C:/b/abs_6ccs97j_l8/croot/jsonschema_1676558690963/work\n",
      "jupyter-events==0.6.3\n",
      "jupyter-lsp==2.2.0\n",
      "jupyter_client @ file:///C:/b/abs_059idvdagk/croot/jupyter_client_1680171872444/work\n",
      "jupyter_core @ file:///C:/b/abs_9d0ttho3bs/croot/jupyter_core_1679906581955/work\n",
      "jupyter_server==2.7.0\n",
      "jupyter_server_terminals==0.4.4\n",
      "jupyterlab==4.0.3\n",
      "jupyterlab-pygments==0.2.2\n",
      "jupyterlab-widgets @ file:///C:/b/abs_38ad427jkz/croot/jupyterlab_widgets_1679055289211/work\n",
      "jupyterlab_server==2.23.0\n",
      "kaleido==0.2.1\n",
      "kiwisolver==1.4.4\n",
      "libarchive-c @ file:///tmp/build/80754af9/python-libarchive-c_1617780486945/work\n",
      "magic-filter==1.0.11\n",
      "MarkupSafe @ file:///C:/ci/markupsafe_1654508036328/work\n",
      "matplotlib==3.7.2\n",
      "matplotlib-inline @ file:///C:/ci/matplotlib-inline_1661934094726/work\n",
      "menuinst @ file:///C:/Users/BUILDE~1/AppData/Local/Temp/abs_455sf5o0ct/croots/recipe/menuinst_1661805970842/work\n",
      "missingno==0.4.2\n",
      "mistune==3.0.1\n",
      "mkl-fft==1.3.6\n",
      "mkl-random @ file:///C:/Users/dev-admin/mkl/mkl_random_1682977971003/work\n",
      "mkl-service==2.4.0\n",
      "more-itertools @ file:///tmp/build/80754af9/more-itertools_1637733554872/work\n",
      "multidict==6.0.4\n",
      "multimethod==1.9.1\n",
      "navigator-updater==0.4.0\n",
      "nbclient==0.8.0\n",
      "nbconvert==7.7.2\n",
      "nbformat @ file:///C:/b/abs_85_3g7dkt4/croot/nbformat_1670352343720/work\n",
      "nest-asyncio @ file:///C:/b/abs_3a_4jsjlqu/croot/nest-asyncio_1672387322800/work\n",
      "nltk==3.8.1\n",
      "notebook_shim==0.2.3\n",
      "numexpr @ file:///C:/b/abs_afm0oewmmt/croot/numexpr_1683221839116/work\n",
      "numpy @ file:///C:/b/abs_5akk51tu0f/croot/numpy_and_numpy_base_1687466253743/work\n",
      "openai==0.28.0\n",
      "openpyxl==3.1.2\n",
      "overrides==7.3.1\n",
      "packaging @ file:///C:/b/abs_ed_kb9w6g4/croot/packaging_1678965418855/work\n",
      "pandas @ file:///C:/b/abs_b9kefbuby2/croot/pandas_1677835593760/work\n",
      "pandocfilters==1.5.0\n",
      "parso @ file:///opt/conda/conda-bld/parso_1641458642106/work\n",
      "pathlib @ file:///Users/ktietz/demo/mc3/conda-bld/pathlib_1629713961906/work\n",
      "patsy==0.5.3\n",
      "phik==0.12.3\n",
      "pickleshare @ file:///tmp/build/80754af9/pickleshare_1606932040724/work\n",
      "Pillow==9.4.0\n",
      "pkginfo @ file:///C:/b/abs_d18srtr68x/croot/pkginfo_1679431192239/work\n",
      "platformdirs @ file:///C:/b/abs_73cc5cz_1u/croots/recipe/platformdirs_1662711386458/work\n",
      "plotly @ file:///C:/ci/plotly_1658160673416/work\n",
      "pluggy @ file:///C:/ci/pluggy_1648042746254/work\n",
      "ply==3.11\n",
      "pooch @ file:///tmp/build/80754af9/pooch_1623324770023/work\n",
      "prometheus-client==0.17.1\n",
      "prompt-toolkit @ file:///C:/b/abs_6coz5_9f2s/croot/prompt-toolkit_1672387908312/work\n",
      "psutil @ file:///C:/Windows/Temp/abs_b2c2fd7f-9fd5-4756-95ea-8aed74d0039flsd9qufz/croots/recipe/psutil_1656431277748/work\n",
      "pure-eval @ file:///opt/conda/conda-bld/pure_eval_1646925070566/work\n",
      "pycosat @ file:///C:/b/abs_4b1rrw8pn9/croot/pycosat_1666807711599/work\n",
      "pycparser @ file:///tmp/build/80754af9/pycparser_1636541352034/work\n",
      "pydantic==2.3.0\n",
      "pydantic_core==2.6.3\n",
      "Pygments @ file:///C:/b/abs_fay9dpq4n_/croot/pygments_1684279990574/work\n",
      "PyJWT @ file:///C:/ci/pyjwt_1657529477795/work\n",
      "pymorphy2==0.9.1\n",
      "pymorphy2-dicts-ru==2.4.417127.4579844\n",
      "pyOpenSSL @ file:///C:/b/abs_552w85x1jz/croot/pyopenssl_1677607703691/work\n",
      "pyparsing==3.0.9\n",
      "pyproj==3.6.0\n",
      "PyQt5==5.15.7\n",
      "PyQt5-sip @ file:///C:/Windows/Temp/abs_d7gmd2jg8i/croots/recipe/pyqt-split_1659273064801/work/pyqt_sip\n",
      "pyrsistent @ file:///C:/ci_310/pyrsistent_1642117077485/work\n",
      "PySocks @ file:///C:/ci_310/pysocks_1642089375450/work\n",
      "python-box @ file:///home/conda/feedstock_root/build_artifacts/python-box_1648897282893/work\n",
      "python-dateutil @ file:///tmp/build/80754af9/python-dateutil_1626374649649/work\n",
      "python-json-logger==2.0.7\n",
      "pytz @ file:///C:/b/abs_22fofvpn1x/croot/pytz_1671698059864/work\n",
      "pywin32==305.1\n",
      "pywinpty==2.0.11\n",
      "PyYAML @ file:///C:/b/abs_d0g7dqt2xw/croot/pyyaml_1670514768165/work\n",
      "pyzmq @ file:///C:/b/abs_655zk4a3s8/croot/pyzmq_1686601465034/work\n",
      "QtPy @ file:///C:/ci/qtpy_1662015130233/work\n",
      "regex==2023.6.3\n",
      "requests @ file:///C:/b/abs_41owkd5ymz/croot/requests_1682607524657/work\n",
      "requests-toolbelt @ file:///Users/ktietz/demo/mc3/conda-bld/requests-toolbelt_1629456163440/work\n",
      "retrying @ file:///Users/ktietz/demo/mc3/conda-bld/retrying_1629465456590/work\n",
      "rfc3339-validator==0.1.4\n",
      "rfc3986-validator==0.1.1\n",
      "ruamel-yaml-conda @ file:///C:/b/abs_6ejaexx82s/croot/ruamel_yaml_1667489767827/work\n",
      "ruamel.yaml @ file:///C:/b/abs_30ee5qbthd/croot/ruamel.yaml_1666304562000/work\n",
      "ruamel.yaml.clib @ file:///C:/b/abs_aarblxbilo/croot/ruamel.yaml.clib_1666302270884/work\n",
      "scikit-learn @ file:///C:/b/abs_55olq_4gzc/croot/scikit-learn_1690978955123/work\n",
      "scipy==1.10.1\n",
      "seaborn==0.12.2\n",
      "semantic-version @ file:///tmp/build/80754af9/semantic_version_1613321057691/work\n",
      "Send2Trash==1.8.2\n",
      "sentry-sdk @ file:///C:/Windows/TEMP/abs_b2h2c3fg3c/croots/recipe/sentry-sdk_1659784551322/work\n",
      "shapely==2.0.1\n",
      "sip @ file:///C:/Windows/Temp/abs_b8fxd17m2u/croots/recipe/sip_1659012372737/work\n",
      "six @ file:///tmp/build/80754af9/six_1644875935023/work\n",
      "sniffio==1.3.0\n",
      "soupsieve @ file:///C:/b/abs_a989exj3q6/croot/soupsieve_1680518492466/work\n",
      "squarify==0.4.3\n",
      "stack-data @ file:///opt/conda/conda-bld/stack_data_1646927590127/work\n",
      "statistics==1.0.3.5\n",
      "statsmodels==0.14.0\n",
      "strsimpy==0.2.1\n",
      "sweetviz==2.1.4\n",
      "tangled-up-in-unicode==0.2.0\n",
      "tenacity @ file:///C:/b/abs_ddkoa9nju6/croot/tenacity_1682972298929/work\n",
      "terminado==0.17.1\n",
      "threadpoolctl @ file:///Users/ktietz/demo/mc3/conda-bld/threadpoolctl_1629802263681/work\n",
      "tinycss2==1.2.1\n",
      "toml @ file:///tmp/build/80754af9/toml_1616166611790/work\n",
      "tomli @ file:///C:/Windows/TEMP/abs_ac109f85-a7b3-4b4d-bcfd-52622eceddf0hy332ojo/croots/recipe/tomli_1657175513137/work\n",
      "toolz @ file:///C:/b/abs_cfvk6rc40d/croot/toolz_1667464080130/work\n",
      "tornado @ file:///C:/ci/tornado_1662476985533/work\n",
      "tqdm @ file:///C:/b/abs_f76j9hg7pv/croot/tqdm_1679561871187/work\n",
      "traitlets @ file:///C:/b/abs_e5m_xjjl94/croot/traitlets_1671143896266/work\n",
      "typeguard==2.13.3\n",
      "typing_extensions==4.7.1\n",
      "ujson @ file:///C:/ci/ujson_1657525893897/work\n",
      "uri-template==1.3.0\n",
      "urllib3 @ file:///C:/b/abs_889_loyqv4/croot/urllib3_1686163174463/work\n",
      "visions==0.7.5\n",
      "wcwidth @ file:///Users/ktietz/demo/mc3/conda-bld/wcwidth_1629357192024/work\n",
      "webcolors==1.13\n",
      "webencodings==0.5.1\n",
      "websocket-client @ file:///C:/ci_310/websocket-client_1642093970919/work\n",
      "wget==3.2\n",
      "widgetsnbextension @ file:///C:/b/abs_882k4_4kdf/croot/widgetsnbextension_1679313880295/work\n",
      "win-inet-pton @ file:///C:/ci_310/win_inet_pton_1642658466512/work\n",
      "wordcloud==1.9.2\n",
      "wrapt @ file:///C:/Windows/Temp/abs_7c3dd407-1390-477a-b542-fd15df6a24085_diwiza/croots/recipe/wrapt_1657814452175/work\n",
      "wurlitzer @ file:///home/conda/feedstock_root/build_artifacts/wurlitzer_1669944596833/work\n",
      "xlrd==2.0.1\n",
      "yarl==1.9.2\n",
      "ydata-profiling==4.2.0\n",
      "zstandard==0.19.0\n",
      "Note: you may need to restart the kernel to use updated packages.\n"
     ]
    }
   ],
   "source": [
    "pip freeze"
   ]
  },
  {
   "cell_type": "code",
   "execution_count": null,
   "id": "320134d3-c8e3-4fe9-a26e-290f1788393d",
   "metadata": {},
   "outputs": [],
   "source": []
  }
 ],
 "metadata": {
  "kernelspec": {
   "display_name": "Python 3 (ipykernel)",
   "language": "python",
   "name": "python3"
  },
  "language_info": {
   "codemirror_mode": {
    "name": "ipython",
    "version": 3
   },
   "file_extension": ".py",
   "mimetype": "text/x-python",
   "name": "python",
   "nbconvert_exporter": "python",
   "pygments_lexer": "ipython3",
   "version": "3.10.12"
  }
 },
 "nbformat": 4,
 "nbformat_minor": 5
}
